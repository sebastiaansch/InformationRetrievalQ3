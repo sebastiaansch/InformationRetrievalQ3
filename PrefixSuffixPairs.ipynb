{
 "cells": [
  {
   "cell_type": "code",
   "execution_count": 1,
   "metadata": {},
   "outputs": [],
   "source": [
    "import pandas as pd\n",
    "import re\n",
    "set = pd.read_csv(\"data/cleaned_queries_background.csv\")\n",
    "df = set.iloc[:,1]\n",
    "string = \"we have a sentence\"\n",
    "list = []\n",
    "def get_presuffix_pair(input):\n",
    "    splitted = re.split('[\\W_]+',str(input))\n",
    "    return_list=[]\n",
    "    for i in range(1,len(splitted)):\n",
    "        p1 = \" \".join(splitted[0:i])\n",
    "        p2 = \" \".join(splitted[i:len(splitted)])\n",
    "        file.write(p1 + \",\")\n",
    "        file.write(p2 + \"\\n\")"
   ]
  },
  {
   "cell_type": "code",
   "execution_count": 2,
   "metadata": {},
   "outputs": [],
   "source": [
    "filename = \"data/prefix_suffix_pairs.txt\"\n",
    "file = open(filename,\"w\")\n",
    "\n",
    "for query in df:\n",
    "    get_presuffix_pair(query)\n",
    "file.close()\n",
    "\n"
   ]
  },
  {
   "cell_type": "code",
   "execution_count": null,
   "metadata": {},
   "outputs": [],
   "source": []
  }
 ],
 "metadata": {
  "kernelspec": {
   "display_name": "Python 3",
   "language": "python",
   "name": "python3"
  },
  "language_info": {
   "codemirror_mode": {
    "name": "ipython",
    "version": 3
   },
   "file_extension": ".py",
   "mimetype": "text/x-python",
   "name": "python",
   "nbconvert_exporter": "python",
   "pygments_lexer": "ipython3",
   "version": "3.7.1"
  }
 },
 "nbformat": 4,
 "nbformat_minor": 2
}
