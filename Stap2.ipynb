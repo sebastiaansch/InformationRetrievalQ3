{
 "cells": [
  {
   "cell_type": "code",
   "execution_count": 2,
   "metadata": {},
   "outputs": [],
   "source": [
    "import pyltr\n",
    "import pandas as pd\n",
    "import numpy as np\n",
    "import datetime"
   ]
  },
  {
   "cell_type": "code",
   "execution_count": 6,
   "metadata": {},
   "outputs": [
    {
     "name": "stderr",
     "output_type": "stream",
     "text": [
      "/usr/lib/python3/dist-packages/numpy/lib/arraysetops.py:569: FutureWarning: elementwise comparison failed; returning scalar instead, but in the future will perform elementwise comparison\n",
      "  mask |= (ar1 == a)\n"
     ]
    }
   ],
   "source": [
    "suffixes = pd.read_csv(\"data/Freq_background.csv\", index_col='Unnamed: 0')"
   ]
  },
  {
   "cell_type": "code",
   "execution_count": 69,
   "metadata": {},
   "outputs": [],
   "source": [
    "top100k = suffixes.iloc[range(100000),:]"
   ]
  },
  {
   "cell_type": "code",
   "execution_count": 51,
   "metadata": {},
   "outputs": [],
   "source": [
    "import re\n",
    "import time"
   ]
  },
  {
   "cell_type": "code",
   "execution_count": 80,
   "metadata": {},
   "outputs": [
    {
     "name": "stdout",
     "output_type": "stream",
     "text": [
      "Query: hallo ik ben m\n",
      "['hallo', 'ik', 'ben', 'm']\n",
      "Endterm -> 'm'\n"
     ]
    },
    {
     "data": {
      "text/plain": [
       "6      hallo ik ben myspace com\n",
       "12        hallo ik ben mapquest\n",
       "13         hallo ik ben myspace\n",
       "49           hallo ik ben music\n",
       "60            hallo ik ben mail\n",
       "70       hallo ik ben map quest\n",
       "80               hallo ik ben m\n",
       "83        hallo ik ben my space\n",
       "85         hallo ik ben msn com\n",
       "92    hallo ik ben mapquest com\n",
       "Name: 0, dtype: object"
      ]
     },
     "execution_count": 80,
     "metadata": {},
     "output_type": "execute_result"
    }
   ],
   "source": [
    "query = input(\"Query: \")\n",
    "\n",
    "startt = time.time()\n",
    "splitted = re.split('[\\W_]+',query)\n",
    "print(splitted)\n",
    "if query[len(query)-1] == ' ':\n",
    "    endterm = splitted[len(splitted)-2] + \" \"\n",
    "else:\n",
    "    endterm = splitted[len(splitted)-1]\n",
    "\n",
    "print(\"Endterm -> '\" + endterm + \"'\")\n",
    "\n",
    "out = top100k[top100k['0'].str.startswith(endterm)].nlargest(10, 'counts')\n",
    "\n",
    "time.time() - startt\n",
    "query[:-len(endterm)] + out['0'].astype(str)"
   ]
  },
  {
   "cell_type": "code",
   "execution_count": 64,
   "metadata": {},
   "outputs": [
    {
     "data": {
      "text/plain": [
       "Index([' 0', ' 0 ', ' 0 0', ' 0 0 ', ' 0 0 0',\n",
       "       ' 0 0 0 0 0 0 0 0 0 0 0 0 0 0 0 0 0 0 0 0 0 0 0 0 0 0 0 0 0 0 0 0 0 0 0 0 0 0 0 0 0 0 0 0 0 0 0 0 0 0 0 0 0 0 0 0 0 0 0 0 0 0 0 0 0 0 0 0 0 0 0 0 0 0 0 0 0 0 0 0 0 0 0 0 0 0 0 0 0 0 0 0 0 0 0 0 0 0 0 0 0 0 0 0 0 0 0',\n",
       "       ' 0 0 0 0 0 0 0 0 0 0 0 0 0 0 0 0 0 0 0 0 0 0 0 0 0 0 0 0 0 0 0 0 0 0 0 0 0 0 0 0 0 0 0 0 0 0 0 0 0 0 0 0 0 00000000000000000000000000000000000000000000000000000000000000000000000000000000000000000000000000000000000000000000000000000000000000000000000000000000000000000000000000000000000000000000000000 00000000000000000000000000000000000000000000000000000000000000000000000000000000000000000000000000000000000000000000000000000000000000000000000000000000000000000000000000000000000000000000000000000',\n",
       "       ' 0 0 0 1', ' 0 0 00000000000000000000000',\n",
       "       ' 0 0 www diecutswithaview com',\n",
       "       ...\n",
       "       'ý í í ç ç', 'ý ó', 'ý ý í í ç ç', 'ýsa', 'ÿ 0 l ø ÿ 4t q', 'ÿ 4t q',\n",
       "       'ÿ ÿ 0 l ø ÿ 4t q', 'ÿ9h u', 'ÿx', 'ÿôìùâ'],\n",
       "      dtype='object', name='0', length=13813214)"
      ]
     },
     "execution_count": 64,
     "metadata": {},
     "output_type": "execute_result"
    }
   ],
   "source": [
    "suffixes_sorted.index"
   ]
  }
 ],
 "metadata": {
  "kernelspec": {
   "display_name": "Python 3",
   "language": "python",
   "name": "python3"
  },
  "language_info": {
   "codemirror_mode": {
    "name": "ipython",
    "version": 3
   },
   "file_extension": ".py",
   "mimetype": "text/x-python",
   "name": "python",
   "nbconvert_exporter": "python",
   "pygments_lexer": "ipython3",
   "version": "3.7.2+"
  }
 },
 "nbformat": 4,
 "nbformat_minor": 2
}
