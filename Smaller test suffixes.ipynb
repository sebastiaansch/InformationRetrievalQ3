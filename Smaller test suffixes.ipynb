{
 "cells": [
  {
   "cell_type": "code",
   "execution_count": 1,
   "metadata": {},
   "outputs": [
    {
     "name": "stdout",
     "output_type": "stream",
     "text": [
      "data/aol-data/user-ct-test-collection-01.txt\n",
      "data/aol-data/user-ct-test-collection-02.txt\n",
      "data/aol-data/user-ct-test-collection-03.txt\n",
      "data/aol-data/user-ct-test-collection-04.txt\n",
      "data/aol-data/user-ct-test-collection-05.txt\n",
      "data/aol-data/user-ct-test-collection-06.txt\n",
      "data/aol-data/user-ct-test-collection-07.txt\n",
      "data/aol-data/user-ct-test-collection-08.txt\n"
     ]
    },
    {
     "name": "stderr",
     "output_type": "stream",
     "text": [
      "/usr/local/lib/python3.7/dist-packages/IPython/core/interactiveshell.py:3044: DtypeWarning: Columns (0,3) have mixed types. Specify dtype option on import or set low_memory=False.\n",
      "  interactivity=interactivity, compiler=compiler, result=result)\n"
     ]
    },
    {
     "name": "stdout",
     "output_type": "stream",
     "text": [
      "data/aol-data/user-ct-test-collection-09.txt\n",
      "data/aol-data/user-ct-test-collection-10.txt\n"
     ]
    }
   ],
   "source": [
    "import numpy as np\n",
    "import pandas as pd\n",
    "import glob\n",
    "import os\n",
    "import re\n",
    "def get_suffix(inputstring):\n",
    "    splitted = re.split('[\\W_]+',str(inputstring))\n",
    "    return_list = []\n",
    "    for i in range(len(splitted)):\n",
    "        return_list.append(' '.join(splitted[i:len(splitted)]))\n",
    "    return return_list\n",
    "\n",
    "data_path = \"data/aol-data/\"\n",
    "dir_list = sorted(os.listdir(data_path))\n",
    "dir_list \n",
    "df_from_files = []\n",
    "for file in dir_list:\n",
    "    print(data_path + \"\" +file)\n",
    "    df = pd.read_csv(data_path + \"\" +file, delimiter=\"\\t\")\n",
    "    df_from_files.append(df)\n",
    "\n",
    "df = pd.concat(df_from_files, axis = 0, ignore_index = True)"
   ]
  },
  {
   "cell_type": "code",
   "execution_count": 2,
   "metadata": {},
   "outputs": [
    {
     "data": {
      "text/plain": [
       "Index(['AnonID', 'Query', 'QueryTime', 'ItemRank', 'ClickURL'], dtype='object')"
      ]
     },
     "execution_count": 2,
     "metadata": {},
     "output_type": "execute_result"
    }
   ],
   "source": [
    "df.columns"
   ]
  },
  {
   "cell_type": "code",
   "execution_count": 15,
   "metadata": {},
   "outputs": [],
   "source": [
    "df = df[pd.isna(df['ItemRank'])]"
   ]
  },
  {
   "cell_type": "code",
   "execution_count": 16,
   "metadata": {},
   "outputs": [
    {
     "data": {
      "text/plain": [
       "16946938"
      ]
     },
     "execution_count": 16,
     "metadata": {},
     "output_type": "execute_result"
    }
   ],
   "source": [
    "len(df)"
   ]
  },
  {
   "cell_type": "code",
   "execution_count": 17,
   "metadata": {},
   "outputs": [],
   "source": [
    "timelimited = df[(df['QueryTime'] >= \"2006-03-01\") & (df['QueryTime'] <= \"2006-04-30\")]"
   ]
  },
  {
   "cell_type": "code",
   "execution_count": null,
   "metadata": {},
   "outputs": [],
   "source": []
  },
  {
   "cell_type": "code",
   "execution_count": 18,
   "metadata": {},
   "outputs": [
    {
     "data": {
      "text/plain": [
       "10978900"
      ]
     },
     "execution_count": 18,
     "metadata": {},
     "output_type": "execute_result"
    }
   ],
   "source": [
    "len(timelimited)"
   ]
  },
  {
   "cell_type": "code",
   "execution_count": 19,
   "metadata": {},
   "outputs": [],
   "source": [
    "filename = \"data/output_timelimited.txt\"\n",
    "file = open(filename,\"w\")\n",
    "\n",
    "for query in timelimited['Query']:\n",
    "    splitted = get_suffix(query)\n",
    "    for suffix in splitted:\n",
    "        if suffix == \"\":\n",
    "            continue\n",
    "        file.write(suffix + \"\\n\")\n",
    "file.close()"
   ]
  },
  {
   "cell_type": "code",
   "execution_count": 37,
   "metadata": {},
   "outputs": [
    {
     "data": {
      "text/plain": [
       "0                                              rentdirect.com\n",
       "1                                 www.prescriptionfortime.com\n",
       "2                                                  staple.com\n",
       "3                                                  staple.com\n",
       "4                                   www.newyorklawyersite.com\n",
       "5                                   www.newyorklawyersite.com\n",
       "6                                             westchester.gov\n",
       "7                                               space.comhttp\n",
       "8                                                        dfdf\n",
       "9                                                        dfdf\n",
       "10                                                vaniqa.comh\n",
       "11                                        www.collegeucla.edu\n",
       "12                                                 www.elaorg\n",
       "13                                               207 ad2d 530\n",
       "14                                               207 ad2d 530\n",
       "15                                          broadway.vera.org\n",
       "16                                          broadway.vera.org\n",
       "17                                                   vera.org\n",
       "18                                          broadway.vera.org\n",
       "19                                           frankmellace.com\n",
       "20                                                ucs.ljx.com\n",
       "21                                          attornyleslie.com\n",
       "22                                   merit release appearance\n",
       "27                                                    lottery\n",
       "28                                                    lottery\n",
       "29                                             ameriprise.com\n",
       "30                                                    susheme\n",
       "31                                                 united.com\n",
       "32                                                 mizuno.com\n",
       "33                                      p; .; p;' p; ' ;' ;';\n",
       "                                  ...                        \n",
       "36306892                                                  fox\n",
       "36306893                                   fox & obel chicago\n",
       "36306895                                      travelocity.com\n",
       "36306896                                      phoenix birding\n",
       "36306897                                      phoenix birding\n",
       "36306898                                       hawaii birding\n",
       "36306899                             hawaii bed and breakfast\n",
       "36306900                             hawaii bed and breakfast\n",
       "36306902                                   focus on jerusalem\n",
       "36306903                                          busty girls\n",
       "36306904                                           chubbytand\n",
       "36306905                                           chubbyland\n",
       "36306906                                           chubbyland\n",
       "36306940                                                    .\n",
       "36306941                                www.schoolmatters.com\n",
       "36306942                                             www..com\n",
       "36306943                                 www.stringbikini.com\n",
       "36306944                                 www.stringbikini.com\n",
       "36306945                                 www.stringbikini.com\n",
       "36306973                                     www. verizon.net\n",
       "36306974                                         www.verizon.\n",
       "36306975                                    takingback sunday\n",
       "36306976                                   taking back sunday\n",
       "36306977                    who is going to be at warped tour\n",
       "36306978         who is going to be at warped tour on july 12\n",
       "36306979    does taking back sunday have a concert in los ...\n",
       "36306980    does taking back sunday have a concert in los ...\n",
       "36306985                                   www.mypay.dfas.mil\n",
       "36306987                                           google.com\n",
       "36306988                                           google.com\n",
       "Name: Query, Length: 23850247, dtype: object"
      ]
     },
     "execution_count": 37,
     "metadata": {},
     "output_type": "execute_result"
    }
   ],
   "source": []
  },
  {
   "cell_type": "code",
   "execution_count": null,
   "metadata": {},
   "outputs": [],
   "source": []
  }
 ],
 "metadata": {
  "kernelspec": {
   "display_name": "Python 3",
   "language": "python",
   "name": "python3"
  },
  "language_info": {
   "codemirror_mode": {
    "name": "ipython",
    "version": 3
   },
   "file_extension": ".py",
   "mimetype": "text/x-python",
   "name": "python",
   "nbconvert_exporter": "python",
   "pygments_lexer": "ipython3",
   "version": "3.7.2+"
  }
 },
 "nbformat": 4,
 "nbformat_minor": 2
}
