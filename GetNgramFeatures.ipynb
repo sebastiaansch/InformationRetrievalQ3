{
 "cells": [
  {
   "cell_type": "code",
   "execution_count": 110,
   "metadata": {},
   "outputs": [],
   "source": [
    "import pandas as pd\n",
    "import csv"
   ]
  },
  {
   "cell_type": "code",
   "execution_count": 100,
   "metadata": {},
   "outputs": [],
   "source": [
    "with open('data/ngram_dict.csv', mode='r') as infile:\n",
    "    reader = csv.reader(infile)\n",
    "    mydict = {rows[0]:rows[1] for rows in reader}"
   ]
  },
  {
   "cell_type": "code",
   "execution_count": 119,
   "metadata": {},
   "outputs": [],
   "source": [
    "def get_single_ngram_features(query_input, ngram_dict):\n",
    "    ngram_scores = []\n",
    "\n",
    "    for n in range(1,7):\n",
    "        sixgrams = ngrams(query_input.split(), n)\n",
    "        ngram_score = 0\n",
    "        for grams in sixgrams:\n",
    "            try:\n",
    "                ngram_score = ngram_score + float(ngram_dict[' '.join(grams)])\n",
    "            except:\n",
    "                pass\n",
    "        ngram_scores.append(ngram_score)\n",
    "    return ngram_scores\n",
    "\n",
    "def get_ngram_features(inputs, ngram_dict):\n",
    "    results = [get_single_ngram_features(x, ngram_dict) for x in inputs];\n",
    "    return results\n"
   ]
  },
  {
   "cell_type": "code",
   "execution_count": 121,
   "metadata": {},
   "outputs": [
    {
     "data": {
      "text/plain": [
       "[[40.770511115217005, 55.17769340395801, 28.7832171811747, 0, 0, 0],\n",
       " [41.247737418004625, 55.58315851206617, 12.390981521009305, 0, 0, 0]]"
      ]
     },
     "execution_count": 121,
     "metadata": {},
     "output_type": "execute_result"
    }
   ],
   "source": [
    "input_queries = ['hello my name is jeff', 'hello my name is juan']\n",
    "\n",
    "resultvalue = get_ngram_features(input_queries, mydict)\n",
    "resultvalue"
   ]
  }
 ],
 "metadata": {
  "kernelspec": {
   "display_name": "Python 3",
   "language": "python",
   "name": "python3"
  },
  "language_info": {
   "codemirror_mode": {
    "name": "ipython",
    "version": 3
   },
   "file_extension": ".py",
   "mimetype": "text/x-python",
   "name": "python",
   "nbconvert_exporter": "python",
   "pygments_lexer": "ipython3",
   "version": "3.7.2+"
  }
 },
 "nbformat": 4,
 "nbformat_minor": 2
}
