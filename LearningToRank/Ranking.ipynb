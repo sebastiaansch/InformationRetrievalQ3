{
 "cells": [
  {
   "cell_type": "code",
   "execution_count": 43,
   "metadata": {},
   "outputs": [],
   "source": [
    "import pyltr\n",
    "import pandas as pd\n",
    "import numpy as np\n",
    "import MRR\n",
    "import csv\n",
    "import time"
   ]
  },
  {
   "cell_type": "code",
   "execution_count": 44,
   "metadata": {},
   "outputs": [],
   "source": [
    "training_file = \"../data/training_feature_data.csv\""
   ]
  },
  {
   "cell_type": "code",
   "execution_count": 60,
   "metadata": {},
   "outputs": [
    {
     "name": "stdout",
     "output_type": "stream",
     "text": [
      "Dit koste: 67.54274129867554\n"
     ]
    }
   ],
   "source": [
    "# training_data = pd.read_csv(\"../data/training_feature_data.csv\", header=None)\n",
    "\n",
    "start_time = time.time()\n",
    "\n",
    "preallocate = 5000000\n",
    "\n",
    "training_ngram_features = []\n",
    "training_ylabels = []\n",
    "training_qids = []\n",
    "\n",
    "training_ngram_features=preallocate*[[0,0,0,0,0,0]]\n",
    "training_ylabels=preallocate*[np.bool(0)]\n",
    "training_qids=preallocate*[np.int(0)]\n",
    "\n",
    "i = 0\n",
    "with open(training_file, newline='\\n') as csvfile:\n",
    "    spamreader = csv.reader(csvfile, delimiter=';')\n",
    "    for row in spamreader:\n",
    "        if int(row[3]) % 2 == 0:\n",
    "            continue\n",
    "        training_ngram_features[i] = eval(row[0]) \n",
    "        training_ylabels[i] = np.bool(row[1])\n",
    "        training_qids[i] = np.int(row[3])\n",
    "        i = i + 1\n",
    "        if i == preallocate:\n",
    "            break\n",
    "        \n",
    "            \n",
    "training_ngram_ints = np.array(training_ngram_features)\n",
    "training_ylabels_ready = np.array(training_ylabels)\n",
    "training_qids_ready = np.array(training_qids)\n",
    "\n",
    "training_ngram_features = []\n",
    "training_ylabels = []\n",
    "training_qids = []\n",
    "\n",
    "print(\"Dit koste: \" + str(time.time() - start_time))"
   ]
  },
  {
   "cell_type": "code",
   "execution_count": null,
   "metadata": {},
   "outputs": [],
   "source": [
    "validation_file = \"../data/validation_feature_data.csv\""
   ]
  },
  {
   "cell_type": "code",
   "execution_count": null,
   "metadata": {},
   "outputs": [],
   "source": [
    "# training_data = pd.read_csv(\"../data/training_feature_data.csv\", header=None)\n",
    "\n",
    "start_time = time.time()\n",
    "\n",
    "preallocate = 5000000\n",
    "\n",
    "training_ngram_features = []\n",
    "training_ylabels = []\n",
    "training_qids = []\n",
    "\n",
    "training_ngram_features=preallocate*[[0,0,0,0,0,0]]\n",
    "training_ylabels=preallocate*[np.bool(0)]\n",
    "training_qids=preallocate*[np.int(0)]\n",
    "\n",
    "i = 0\n",
    "with open(training_file, newline='\\n') as csvfile:\n",
    "    spamreader = csv.reader(csvfile, delimiter=';')\n",
    "    for row in spamreader:\n",
    "        if int(row[3]) % 2 == 0:\n",
    "            continue\n",
    "        training_ngram_features[i] = eval(row[0]) \n",
    "        training_ylabels[i] = np.bool(row[1])\n",
    "        training_qids[i] = np.int(row[3])\n",
    "        i = i + 1\n",
    "        if i == preallocate:\n",
    "            break\n",
    "        \n",
    "            \n",
    "training_ngram_ints = np.array(training_ngram_features)\n",
    "training_ylabels_ready = np.array(training_ylabels)\n",
    "training_qids_ready = np.array(training_qids)\n",
    "\n",
    "training_ngram_features = []\n",
    "training_ylabels = []\n",
    "training_qids = []\n",
    "\n",
    "print(\"Dit koste: \" + str(time.time() - start_time))"
   ]
  },
  {
   "cell_type": "code",
   "execution_count": null,
   "metadata": {},
   "outputs": [
    {
     "name": "stdout",
     "output_type": "stream",
     "text": [
      " Iter  Train score    Remaining                           Monitor Output \n",
      "    1       0.6531      543.41m                                         \n",
      "    2       0.6531      555.36m                                         \n"
     ]
    }
   ],
   "source": [
    "metric = pyltr.metrics.ERR(k=10, highest_score = 1)\n",
    "metric_MRR = MRR.MRR(k=10, highest_score = 1)\n",
    "\n",
    "# Only needed if you want to perform validation (early stopping & trimming)\n",
    "# monitor = pyltr.models.monitors.ValidationMonitor(\n",
    "#     training_ngram_ints, training_ylabels_ready, training_qids_ready, metric=metric, stop_after=250)\n",
    "\n",
    "model = pyltr.models.LambdaMART(\n",
    "    metric=metric,\n",
    "    n_estimators=300,\n",
    "    verbose=1,\n",
    ")\n",
    "\n",
    "model.fit(training_ngram_ints, training_ylabels_ready, training_qids_ready)"
   ]
  },
  {
   "cell_type": "code",
   "execution_count": 40,
   "metadata": {},
   "outputs": [],
   "source": []
  },
  {
   "cell_type": "code",
   "execution_count": 41,
   "metadata": {},
   "outputs": [],
   "source": []
  },
  {
   "cell_type": "code",
   "execution_count": null,
   "metadata": {},
   "outputs": [],
   "source": []
  },
  {
   "cell_type": "code",
   "execution_count": null,
   "metadata": {},
   "outputs": [],
   "source": []
  }
 ],
 "metadata": {
  "kernelspec": {
   "display_name": "Python 3",
   "language": "python",
   "name": "python3"
  },
  "language_info": {
   "codemirror_mode": {
    "name": "ipython",
    "version": 3
   },
   "file_extension": ".py",
   "mimetype": "text/x-python",
   "name": "python",
   "nbconvert_exporter": "python",
   "pygments_lexer": "ipython3",
   "version": "3.7.1"
  }
 },
 "nbformat": 4,
 "nbformat_minor": 2
}
