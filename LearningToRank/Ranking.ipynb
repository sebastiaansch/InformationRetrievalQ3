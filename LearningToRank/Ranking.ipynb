{
 "cells": [
  {
   "cell_type": "code",
   "execution_count": 43,
   "metadata": {},
   "outputs": [],
   "source": [
    "import pyltr\n",
    "import pandas as pd\n",
    "import numpy as np\n",
    "import MRR\n",
    "import csv\n",
    "import time"
   ]
  },
  {
   "cell_type": "code",
   "execution_count": 44,
   "metadata": {},
   "outputs": [],
   "source": [
    "training_file = \"../data/training_feature_data.csv\""
   ]
  },
  {
   "cell_type": "code",
   "execution_count": 49,
   "metadata": {},
   "outputs": [
    {
     "name": "stdout",
     "output_type": "stream",
     "text": [
      "Dit koste: 27.871960639953613\n"
     ]
    }
   ],
   "source": [
    "# training_data = pd.read_csv(\"../data/training_feature_data.csv\", header=None)\n",
    "\n",
    "start_time = time.time()\n",
    "\n",
    "preallocate = 2500000\n",
    "\n",
    "training_ngram_features = []\n",
    "training_ylabels = []\n",
    "training_qids = []\n",
    "\n",
    "training_ngram_features=preallocate*[None]\n",
    "training_ylabels=preallocate*[None]\n",
    "training_qids=preallocate*[None]\n",
    "\n",
    "i = 0\n",
    "with open(training_file, newline='\\n') as csvfile:\n",
    "    spamreader = csv.reader(csvfile, delimiter=';')\n",
    "    for row in spamreader:\n",
    "        training_ngram_features[i] =row[0] \n",
    "        training_ylabels[i] = row[1]\n",
    "        training_qids[i] = row[3]\n",
    "        i = i + 1\n",
    "        if i == preallocate:\n",
    "            break\n",
    "        \n",
    "            \n",
    "training_ngram_ints = [eval(x) for x in training_ngram_features]\n",
    "training_ylabels_ready = np.array(training_ylabels).astype(bool)\n",
    "training_qids_ready = np.array(training_qids).astype(int)\n",
    "\n",
    "print(\"Dit koste: \" + str(time.time() - start_time))"
   ]
  },
  {
   "cell_type": "code",
   "execution_count": 39,
   "metadata": {},
   "outputs": [],
   "source": []
  },
  {
   "cell_type": "code",
   "execution_count": 40,
   "metadata": {},
   "outputs": [],
   "source": []
  },
  {
   "cell_type": "code",
   "execution_count": 41,
   "metadata": {},
   "outputs": [],
   "source": []
  },
  {
   "cell_type": "code",
   "execution_count": null,
   "metadata": {},
   "outputs": [],
   "source": []
  },
  {
   "cell_type": "code",
   "execution_count": null,
   "metadata": {},
   "outputs": [],
   "source": []
  }
 ],
 "metadata": {
  "kernelspec": {
   "display_name": "Python 3",
   "language": "python",
   "name": "python3"
  },
  "language_info": {
   "codemirror_mode": {
    "name": "ipython",
    "version": 3
   },
   "file_extension": ".py",
   "mimetype": "text/x-python",
   "name": "python",
   "nbconvert_exporter": "python",
   "pygments_lexer": "ipython3",
   "version": "3.7.1"
  }
 },
 "nbformat": 4,
 "nbformat_minor": 2
}
