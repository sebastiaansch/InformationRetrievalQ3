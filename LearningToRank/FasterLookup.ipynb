{
 "cells": [
  {
   "cell_type": "code",
   "execution_count": 8,
   "metadata": {},
   "outputs": [],
   "source": [
    "from pytrie import SortedStringTrie as Trie\n",
    "import dawg\n",
    "import csv\n",
    "ngram_dict = []\n",
    "\n",
    "with open('../data/sorted_popular_queries.csv', mode='r') as infile:\n",
    "    reader = csv.reader(infile)\n",
    "    skipheader = next(reader)\n",
    "    data=[tuple([line[1], int(line[2])]) for line in reader]\n",
    "d = dawg.IntCompletionDAWG(data)"
   ]
  },
  {
   "cell_type": "code",
   "execution_count": 50,
   "metadata": {},
   "outputs": [],
   "source": [
    "data = []"
   ]
  },
  {
   "cell_type": "code",
   "execution_count": 51,
   "metadata": {},
   "outputs": [
    {
     "data": {
      "text/plain": [
       "<dawg.IntCompletionDAWG at 0x7f041b62bd50>"
      ]
     },
     "execution_count": 51,
     "metadata": {},
     "output_type": "execute_result"
    }
   ],
   "source": [
    "d"
   ]
  },
  {
   "cell_type": "code",
   "execution_count": 10,
   "metadata": {},
   "outputs": [
    {
     "name": "stdout",
     "output_type": "stream",
     "text": [
      "hello kitty: 229\n",
      "hello kitty acessaries: 1\n",
      "hello kitty address labels: 2\n",
      "hello kitty and melody: 1\n",
      "hello kitty and melody pictures: 1\n",
      "hello kitty and tweety: 11\n",
      "hello kitty and tweety and characters: 4\n",
      "hello kitty aprty supplies: 1\n",
      "hello kitty at barnes noble: 2\n",
      "hello kitty avatar: 1\n",
      "hello kitty baby swing: 1\n",
      "hello kitty backgrounds: 1\n",
      "hello kitty backrounds: 1\n",
      "hello kitty balloons: 1\n",
      "hello kitty bathing suits: 1\n",
      "hello kitty bathroom supplies: 1\n",
      "hello kitty bedding: 2\n",
      "hello kitty bedding for queen size beds: 1\n",
      "hello kitty bedroom decorations: 1\n",
      "hello kitty bedroom stuff: 1\n",
      "hello kitty bio: 1\n",
      "hello kitty birthday cakes: 2\n",
      "hello kitty birthday cakes publix: 1\n",
      "hello kitty birthday clip art: 1\n",
      "hello kitty birthday invitations: 1\n",
      "hello kitty birthday party: 2\n",
      "hello kitty birthday party centerpiece: 1\n",
      "hello kitty birthday supplies: 2\n",
      "hello kitty border: 1\n",
      "hello kitty bowling ball: 1\n",
      "hello kitty cake pans: 1\n",
      "hello kitty car: 1\n",
      "hello kitty car accessories: 1\n",
      "hello kitty cartoon: 1\n",
      "hello kitty cartoon character: 1\n",
      "hello kitty cell phone: 1\n",
      "hello kitty cell phone cases: 1\n",
      "hello kitty cell phone cover: 1\n",
      "hello kitty cell phons com: 1\n",
      "hello kitty chamilia charm: 1\n",
      "hello kitty characters: 2\n",
      "hello kitty checkbook: 1\n",
      "hello kitty checkbook covers: 1\n",
      "hello kitty checks: 3\n",
      "hello kitty clip art: 1\n",
      "hello kitty clip art for invitations: 1\n",
      "hello kitty coloring pages: 6\n",
      "hello kitty coloring sheets: 2\n",
      "hello kitty com: 31\n",
      "hello kitty comforter: 1\n",
      "hello kitty comforter : 1\n",
      "hello kitty comment box: 1\n",
      "hello kitty computer software: 1\n",
      "hello kitty contact boxes: 1\n",
      "hello kitty contact boxes for myspace: 2\n",
      "hello kitty contact tables for myspace: 1\n",
      "hello kitty cord phne: 1\n",
      "hello kitty cord phone: 1\n",
      "hello kitty cordless phone: 1\n",
      "hello kitty costume: 1\n",
      "hello kitty crayons: 1\n",
      "hello kitty crib bedding: 1\n",
      "hello kitty crib beddng: 1\n",
      "hello kitty crib mobile: 2\n",
      "hello kitty cuddle pillow: 1\n",
      "hello kitty cupcake holders: 1\n",
      "hello kitty cursors: 2\n",
      "hello kitty cz earrings gold: 1\n",
      "hello kitty denim clothing: 1\n",
      "hello kitty desktops: 2\n",
      "hello kitty desttop themes: 1\n",
      "hello kitty diamond face necklace: 1\n",
      "hello kitty diaper bag: 1\n",
      "hello kitty digital camera: 3\n",
      "hello kitty dog toy: 1\n",
      "hello kitty double switch plate: 1\n",
      "hello kitty dream carnivalgame: 1\n",
      "hello kitty earrings: 1\n",
      "hello kitty easter: 1\n",
      "hello kitty easter wallpaper: 1\n",
      "hello kitty ecards: 1\n",
      "hello kitty eva clog: 1\n",
      "hello kitty flannel sheets: 1\n",
      "hello kitty flashlight keychain: 1\n",
      "hello kitty floor mats: 1\n",
      "hello kitty floormats: 1\n",
      "hello kitty flower fun design party supplies: 1\n",
      "hello kitty fm transmitter: 1\n",
      "hello kitty for adults: 1\n",
      "hello kitty free plastic canvas patterns: 1\n",
      "hello kitty game: 1\n",
      "hello kitty games: 1\n",
      "hello kitty games com: 1\n",
      "hello kitty golf: 1\n",
      "hello kitty gomes com: 1\n",
      "hello kitty greeting cards: 1\n",
      "hello kitty guitar: 1\n",
      "hello kitty hair dryer: 1\n",
      "hello kitty handbag at elmwood park mandee: 1\n",
      "hello kitty handbags: 1\n",
      "hello kitty hat: 1\n",
      "hello kitty hoodie: 1\n",
      "hello kitty hospital scrubs: 1\n",
      "hello kitty housewares: 2\n",
      "hello kitty houston: 1\n",
      "hello kitty html: 1\n",
      "hello kitty image: 1\n",
      "hello kitty image urls: 1\n",
      "hello kitty images: 1\n",
      "hello kitty iron ons: 1\n",
      "hello kitty jewelry: 1\n",
      "hello kitty jewerly: 1\n",
      "hello kitty keychain: 1\n",
      "hello kitty keychains: 1\n",
      "hello kitty keyring: 1\n",
      "hello kitty keyrings: 1\n",
      "hello kitty lamp: 1\n",
      "hello kitty laptops: 1\n",
      "hello kitty lunch boxes: 1\n",
      "hello kitty massager: 1\n",
      "hello kitty massager adult toys: 1\n",
      "hello kitty mini tins: 1\n",
      "hello kitty mobile: 3\n",
      "hello kitty myspace: 1\n",
      "hello kitty myspace background: 2\n",
      "hello kitty myspace images: 1\n",
      "hello kitty myspace layout: 1\n",
      "hello kitty myspace layouts: 2\n",
      "hello kitty nurse: 2\n",
      "hello kitty org: 1\n",
      "hello kitty organizer at barnes noble: 1\n",
      "hello kitty paper: 1\n",
      "hello kitty party ideaa: 1\n",
      "hello kitty party items: 1\n",
      "hello kitty party supplies: 4\n",
      "hello kitty pen: 1\n",
      "hello kitty photo invitations: 1\n",
      "hello kitty picin benchs: 1\n",
      "hello kitty picnic benches: 1\n",
      "hello kitty pics: 11\n",
      "hello kitty pictures: 3\n",
      "hello kitty pictures for myspace: 1\n",
      "hello kitty pins: 2\n",
      "hello kitty plastic canvas pattern: 1\n",
      "hello kitty plastic serving bowls: 1\n",
      "hello kitty princess: 11\n",
      "hello kitty princess bedding: 2\n",
      "hello kitty princess doll: 1\n",
      "hello kitty princess rug: 1\n",
      "hello kitty princess stuff doll: 1\n",
      "hello kitty products: 1\n",
      "hello kitty punch bowl: 1\n",
      "hello kitty punch recipes: 1\n",
      "hello kitty purses: 1\n",
      "hello kitty reader book: 1\n",
      "hello kitty represents: 1\n",
      "hello kitty scrapbook: 1\n",
      "hello kitty screensaver: 1\n",
      "hello kitty screensavers: 1\n",
      "hello kitty scrubs: 1\n",
      "hello kitty skooter: 1\n",
      "hello kitty slumber party: 1\n",
      "hello kitty steering wheel covers: 2\n",
      "hello kitty stethoscope: 1\n",
      "hello kitty stickers: 2\n",
      "hello kitty store: 1\n",
      "hello kitty store on 42nd street: 1\n",
      "hello kitty stores: 1\n",
      "hello kitty stuff: 2\n",
      "hello kitty sunglasses: 1\n",
      "hello kitty switch plate: 1\n",
      "hello kitty switch plates: 1\n",
      "hello kitty switchplates: 1\n",
      "hello kitty t shirt: 1\n",
      "hello kitty tattoo: 1\n",
      "hello kitty tattoos: 4\n",
      "hello kitty template: 1\n",
      "hello kitty thing: 1\n",
      "hello kitty thumbnails pictures: 1\n",
      "hello kitty tins: 1\n",
      "hello kitty toys: 1\n",
      "hello kitty wallpaper: 1\n",
      "hello kitty wallpaper border: 1\n",
      "hello kitty watch: 2\n",
      "hello kitty web page: 1\n",
      "hello kitty websites: 1\n",
      "hello kitty world: 1\n",
      "hello kitty world com: 1\n",
      "hello kittycoloring pages: 1\n"
     ]
    }
   ],
   "source": [
    "for key in d.keys('hello kitty'):\n",
    "    print(key + \": \" + str(d[key]))"
   ]
  },
  {
   "cell_type": "code",
   "execution_count": null,
   "metadata": {},
   "outputs": [],
   "source": []
  },
  {
   "cell_type": "code",
   "execution_count": 32,
   "metadata": {},
   "outputs": [],
   "source": [
    "import heapq\n",
    "import time\n",
    "from operator import itemgetter\n",
    "\n",
    "candidate_prefix = 'www'"
   ]
  },
  {
   "cell_type": "code",
   "execution_count": 48,
   "metadata": {},
   "outputs": [
    {
     "name": "stdout",
     "output_type": "stream",
     "text": [
      "[3375, 3542, 4144, 5394, 23083, 17571, 6953, 5783, 6625, 24383]\n",
      "It took: 0.5091598033905029\n"
     ]
    }
   ],
   "source": [
    "start_time = time.time()\n",
    "\n",
    "top10=[]\n",
    "for result_item in d.iteritems(prefix=candidate_prefix):\n",
    "    if len(top10) == 10:\n",
    "        heapq.heappushpop(top10, result_item[1])\n",
    "    else:\n",
    "        heapq.heappush(top10, result_item[1])\n",
    "    \n",
    "print(top10)\n",
    "print(\"It took: \" + str(time.time() - start_time))"
   ]
  },
  {
   "cell_type": "code",
   "execution_count": 49,
   "metadata": {},
   "outputs": [
    {
     "name": "stdout",
     "output_type": "stream",
     "text": [
      "[('www yahoo com', 24383), ('www google com', 23083), ('www myspace com', 17571), ('www ebay com', 6953), ('www google', 6625), ('www ', 5783), ('www hotmail com', 5394), ('www', 4144), ('www mapquest com', 3542), ('www myspace', 3375), ('www msn com', 3160), ('www bankofamerica com', 2857), ('www pogo com', 2672), ('www irs gov', 2528), ('www disneychannel com', 2250), ('www disney channel com', 2161), ('www ask com', 1810), ('www mysapce com', 1806), ('www yahoo', 1750), ('www my', 1717), ('wwww myspace com', 1715), ('www ebay', 1545), ('www mapquest', 1501), ('www wellsfargo com', 1456), ('www nick com', 1436)]\n",
      "It took: 0.4256730079650879\n"
     ]
    }
   ],
   "source": [
    "start_time = time.time()\n",
    "top10suffix = heapq.nlargest(25, d.items(prefix=candidate_prefix), key=itemgetter(1))\n",
    "print(top10suffix)\n",
    "print(\"It took: \" + str(time.time() - start_time))"
   ]
  },
  {
   "cell_type": "code",
   "execution_count": null,
   "metadata": {},
   "outputs": [],
   "source": []
  }
 ],
 "metadata": {
  "kernelspec": {
   "display_name": "Python 3",
   "language": "python",
   "name": "python3"
  },
  "language_info": {
   "codemirror_mode": {
    "name": "ipython",
    "version": 3
   },
   "file_extension": ".py",
   "mimetype": "text/x-python",
   "name": "python",
   "nbconvert_exporter": "python",
   "pygments_lexer": "ipython3",
   "version": "3.7.1"
  }
 },
 "nbformat": 4,
 "nbformat_minor": 2
}
