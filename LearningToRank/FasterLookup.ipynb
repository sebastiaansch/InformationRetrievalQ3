{
 "cells": [
  {
   "cell_type": "code",
   "execution_count": 66,
   "metadata": {},
   "outputs": [],
   "source": [
    "import dawg\n",
    "import csv\n",
    "ngram_dict = []\n",
    "\n",
    "with open('../data/sorted_popular_queries.csv', mode='r') as infile:\n",
    "    reader = csv.reader(infile)\n",
    "    skipheader = next(reader)\n",
    "    data=[tuple([line[1], int(line[2])]) for line in reader if int(line[2])>1]\n",
    "d = dawg.IntCompletionDAWG(data)"
   ]
  },
  {
   "cell_type": "code",
   "execution_count": 67,
   "metadata": {},
   "outputs": [],
   "source": [
    "d = dawg.IntCompletionDAWG(data)\n",
    "data = []"
   ]
  },
  {
   "cell_type": "code",
   "execution_count": 68,
   "metadata": {},
   "outputs": [
    {
     "data": {
      "text/plain": [
       "<dawg.IntCompletionDAWG at 0x7f0443de9a80>"
      ]
     },
     "execution_count": 68,
     "metadata": {},
     "output_type": "execute_result"
    }
   ],
   "source": [
    "d"
   ]
  },
  {
   "cell_type": "code",
   "execution_count": 69,
   "metadata": {},
   "outputs": [
    {
     "name": "stdout",
     "output_type": "stream",
     "text": [
      "hello kitty\n",
      "hello kitty address labels\n",
      "hello kitty and tweety\n",
      "hello kitty and tweety and characters\n",
      "hello kitty at barnes noble\n",
      "hello kitty bedding\n",
      "hello kitty birthday cakes\n",
      "hello kitty birthday party\n",
      "hello kitty birthday supplies\n",
      "hello kitty characters\n",
      "hello kitty checks\n",
      "hello kitty coloring pages\n",
      "hello kitty coloring sheets\n",
      "hello kitty com\n",
      "hello kitty contact boxes for myspace\n",
      "hello kitty crib mobile\n",
      "hello kitty cursors\n",
      "hello kitty desktops\n",
      "hello kitty digital camera\n",
      "hello kitty housewares\n",
      "hello kitty mobile\n",
      "hello kitty myspace background\n",
      "hello kitty myspace layouts\n",
      "hello kitty nurse\n",
      "hello kitty party supplies\n",
      "hello kitty pics\n",
      "hello kitty pictures\n",
      "hello kitty pins\n",
      "hello kitty princess\n",
      "hello kitty princess bedding\n",
      "hello kitty steering wheel covers\n",
      "hello kitty stickers\n",
      "hello kitty stuff\n",
      "hello kitty tattoos\n",
      "hello kitty watch\n"
     ]
    }
   ],
   "source": [
    "for key in d.keys('hello kitty'):\n",
    "    print(key)"
   ]
  },
  {
   "cell_type": "code",
   "execution_count": null,
   "metadata": {},
   "outputs": [],
   "source": []
  },
  {
   "cell_type": "code",
   "execution_count": 70,
   "metadata": {},
   "outputs": [],
   "source": [
    "import heapq\n",
    "import time\n",
    "from operator import itemgetter\n",
    "\n",
    "candidate_prefix = 'www'"
   ]
  },
  {
   "cell_type": "code",
   "execution_count": 61,
   "metadata": {},
   "outputs": [
    {
     "name": "stdout",
     "output_type": "stream",
     "text": [
      "[1, 1, 1, 1, 1, 1, 1, 1, 1, 1]\n",
      "It took: 0.525914192199707\n"
     ]
    }
   ],
   "source": [
    "start_time = time.time()\n",
    "\n",
    "top10=[]\n",
    "for key in d.iterkeys(candidate_prefix):\n",
    "    if len(top10) == 10:\n",
    "        heapq.heappushpop(top10, result_item[1])\n",
    "    else:\n",
    "        heapq.heappush(top10, result_item[1])\n",
    "    \n",
    "print(top10)\n",
    "print(\"It took: \" + str(time.time() - start_time))"
   ]
  },
  {
   "cell_type": "code",
   "execution_count": 71,
   "metadata": {},
   "outputs": [
    {
     "name": "stdout",
     "output_type": "stream",
     "text": [
      "[('www yahoo com', 24383), ('www google com', 23083), ('www myspace com', 17571), ('www ebay com', 6953), ('www google', 6625), ('www ', 5783), ('www hotmail com', 5394), ('www', 4144), ('www mapquest com', 3542), ('www myspace', 3375), ('www msn com', 3160), ('www bankofamerica com', 2857), ('www pogo com', 2672), ('www irs gov', 2528), ('www disneychannel com', 2250), ('www disney channel com', 2161), ('www ask com', 1810), ('www mysapce com', 1806), ('www yahoo', 1750), ('www my', 1717), ('wwww myspace com', 1715), ('www ebay', 1545), ('www mapquest', 1501), ('www wellsfargo com', 1456), ('www nick com', 1436)]\n",
      "It took: 0.07872819900512695\n"
     ]
    }
   ],
   "source": [
    "start_time = time.time()\n",
    "top10suffix = heapq.nlargest(25, d.items(prefix=candidate_prefix), key=itemgetter(1))\n",
    "print(top10suffix)\n",
    "print(\"It took: \" + str(time.time() - start_time))"
   ]
  },
  {
   "cell_type": "code",
   "execution_count": null,
   "metadata": {},
   "outputs": [],
   "source": []
  }
 ],
 "metadata": {
  "kernelspec": {
   "display_name": "Python 3",
   "language": "python",
   "name": "python3"
  },
  "language_info": {
   "codemirror_mode": {
    "name": "ipython",
    "version": 3
   },
   "file_extension": ".py",
   "mimetype": "text/x-python",
   "name": "python",
   "nbconvert_exporter": "python",
   "pygments_lexer": "ipython3",
   "version": "3.7.1"
  }
 },
 "nbformat": 4,
 "nbformat_minor": 2
}
