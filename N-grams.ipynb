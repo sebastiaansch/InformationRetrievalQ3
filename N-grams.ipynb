{
 "cells": [
  {
   "cell_type": "code",
   "execution_count": 1,
   "metadata": {},
   "outputs": [],
   "source": [
    "import pandas as pd\n",
    "import numpy as np\n",
    "import re\n",
    "from nltk.util import ngrams\n",
    "from sklearn.feature_extraction.text import TfidfVectorizer"
   ]
  },
  {
   "cell_type": "code",
   "execution_count": 2,
   "metadata": {},
   "outputs": [],
   "source": [
    "df = pd.read_csv(\"data/cleaned_queries_background.csv\", header = None)"
   ]
  },
  {
   "cell_type": "code",
   "execution_count": 5,
   "metadata": {},
   "outputs": [],
   "source": [
    "s = [\"hallo dit is een erg leuk project\", \"ik weet niet wat ik verder moet typen\", \"maar we typen rustig door\"]"
   ]
  },
  {
   "cell_type": "code",
   "execution_count": 35,
   "metadata": {},
   "outputs": [],
   "source": [
    "data = df[1].astype(str)"
   ]
  },
  {
   "cell_type": "code",
   "execution_count": 8,
   "metadata": {},
   "outputs": [
    {
     "data": {
      "text/html": [
       "<div>\n",
       "<style scoped>\n",
       "    .dataframe tbody tr th:only-of-type {\n",
       "        vertical-align: middle;\n",
       "    }\n",
       "\n",
       "    .dataframe tbody tr th {\n",
       "        vertical-align: top;\n",
       "    }\n",
       "\n",
       "    .dataframe thead th {\n",
       "        text-align: right;\n",
       "    }\n",
       "</style>\n",
       "<table border=\"1\" class=\"dataframe\">\n",
       "  <thead>\n",
       "    <tr style=\"text-align: right;\">\n",
       "      <th></th>\n",
       "      <th>dit</th>\n",
       "      <th>dit is</th>\n",
       "      <th>dit is een</th>\n",
       "      <th>dit is een erg</th>\n",
       "      <th>dit is een erg leuk</th>\n",
       "      <th>dit is een erg leuk project</th>\n",
       "      <th>door</th>\n",
       "      <th>een</th>\n",
       "      <th>een erg</th>\n",
       "      <th>een erg leuk</th>\n",
       "      <th>...</th>\n",
       "      <th>we</th>\n",
       "      <th>we typen</th>\n",
       "      <th>we typen rustig</th>\n",
       "      <th>we typen rustig door</th>\n",
       "      <th>weet</th>\n",
       "      <th>weet niet</th>\n",
       "      <th>weet niet wat</th>\n",
       "      <th>weet niet wat ik</th>\n",
       "      <th>weet niet wat ik verder</th>\n",
       "      <th>weet niet wat ik verder moet</th>\n",
       "    </tr>\n",
       "  </thead>\n",
       "  <tbody>\n",
       "    <tr>\n",
       "      <th>0</th>\n",
       "      <td>0.19245</td>\n",
       "      <td>0.19245</td>\n",
       "      <td>0.19245</td>\n",
       "      <td>0.19245</td>\n",
       "      <td>0.19245</td>\n",
       "      <td>0.19245</td>\n",
       "      <td>0.000000</td>\n",
       "      <td>0.19245</td>\n",
       "      <td>0.19245</td>\n",
       "      <td>0.19245</td>\n",
       "      <td>...</td>\n",
       "      <td>0.000000</td>\n",
       "      <td>0.000000</td>\n",
       "      <td>0.000000</td>\n",
       "      <td>0.000000</td>\n",
       "      <td>0.000000</td>\n",
       "      <td>0.000000</td>\n",
       "      <td>0.000000</td>\n",
       "      <td>0.000000</td>\n",
       "      <td>0.000000</td>\n",
       "      <td>0.000000</td>\n",
       "    </tr>\n",
       "    <tr>\n",
       "      <th>1</th>\n",
       "      <td>0.00000</td>\n",
       "      <td>0.00000</td>\n",
       "      <td>0.00000</td>\n",
       "      <td>0.00000</td>\n",
       "      <td>0.00000</td>\n",
       "      <td>0.00000</td>\n",
       "      <td>0.000000</td>\n",
       "      <td>0.00000</td>\n",
       "      <td>0.00000</td>\n",
       "      <td>0.00000</td>\n",
       "      <td>...</td>\n",
       "      <td>0.000000</td>\n",
       "      <td>0.000000</td>\n",
       "      <td>0.000000</td>\n",
       "      <td>0.000000</td>\n",
       "      <td>0.170058</td>\n",
       "      <td>0.170058</td>\n",
       "      <td>0.170058</td>\n",
       "      <td>0.170058</td>\n",
       "      <td>0.170058</td>\n",
       "      <td>0.170058</td>\n",
       "    </tr>\n",
       "    <tr>\n",
       "      <th>2</th>\n",
       "      <td>0.00000</td>\n",
       "      <td>0.00000</td>\n",
       "      <td>0.00000</td>\n",
       "      <td>0.00000</td>\n",
       "      <td>0.00000</td>\n",
       "      <td>0.00000</td>\n",
       "      <td>0.261906</td>\n",
       "      <td>0.00000</td>\n",
       "      <td>0.00000</td>\n",
       "      <td>0.00000</td>\n",
       "      <td>...</td>\n",
       "      <td>0.261906</td>\n",
       "      <td>0.261906</td>\n",
       "      <td>0.261906</td>\n",
       "      <td>0.261906</td>\n",
       "      <td>0.000000</td>\n",
       "      <td>0.000000</td>\n",
       "      <td>0.000000</td>\n",
       "      <td>0.000000</td>\n",
       "      <td>0.000000</td>\n",
       "      <td>0.000000</td>\n",
       "    </tr>\n",
       "  </tbody>\n",
       "</table>\n",
       "<p>3 rows × 73 columns</p>\n",
       "</div>"
      ],
      "text/plain": [
       "       dit   dit is  dit is een  dit is een erg  dit is een erg leuk  \\\n",
       "0  0.19245  0.19245     0.19245         0.19245              0.19245   \n",
       "1  0.00000  0.00000     0.00000         0.00000              0.00000   \n",
       "2  0.00000  0.00000     0.00000         0.00000              0.00000   \n",
       "\n",
       "   dit is een erg leuk project      door      een  een erg  een erg leuk  ...  \\\n",
       "0                      0.19245  0.000000  0.19245  0.19245       0.19245  ...   \n",
       "1                      0.00000  0.000000  0.00000  0.00000       0.00000  ...   \n",
       "2                      0.00000  0.261906  0.00000  0.00000       0.00000  ...   \n",
       "\n",
       "         we  we typen  we typen rustig  we typen rustig door      weet  \\\n",
       "0  0.000000  0.000000         0.000000              0.000000  0.000000   \n",
       "1  0.000000  0.000000         0.000000              0.000000  0.170058   \n",
       "2  0.261906  0.261906         0.261906              0.261906  0.000000   \n",
       "\n",
       "   weet niet  weet niet wat  weet niet wat ik  weet niet wat ik verder  \\\n",
       "0   0.000000       0.000000          0.000000                 0.000000   \n",
       "1   0.170058       0.170058          0.170058                 0.170058   \n",
       "2   0.000000       0.000000          0.000000                 0.000000   \n",
       "\n",
       "   weet niet wat ik verder moet  \n",
       "0                      0.000000  \n",
       "1                      0.170058  \n",
       "2                      0.000000  \n",
       "\n",
       "[3 rows x 73 columns]"
      ]
     },
     "execution_count": 8,
     "metadata": {},
     "output_type": "execute_result"
    }
   ],
   "source": [
    "\n",
    "# min_df --> in hoeveel regels moet(en) woord(en) minimaal voorkomen (dus nu min 1)\n",
    "# max_df --> in hoeveel procent mag/mogen woord/woorden maximaal voorkomen (dus nu 70%)\n",
    "tfidf = TfidfVectorizer(min_df=1000, max_df=0.7, ngram_range=(1,6))\n",
    "features = tfidf.fit_transform(s)\n",
    "pd.DataFrame(\n",
    "    features.todense(),\n",
    "    columns=tfidf.get_feature_names()\n",
    ")"
   ]
  },
  {
   "cell_type": "code",
   "execution_count": 36,
   "metadata": {},
   "outputs": [],
   "source": [
    "tfidf = TfidfVectorizer(ngram_range=(1,6))\n",
    "features = tfidf.fit(data)\n"
   ]
  },
  {
   "cell_type": "code",
   "execution_count": 48,
   "metadata": {},
   "outputs": [
    {
     "data": {
      "text/plain": [
       "0                                                           0\n",
       "1                                              rentdirect com\n",
       "2                                 www prescriptionfortime com\n",
       "3                                                  staple com\n",
       "4                                   www newyorklawyersite com\n",
       "5                                             westchester gov\n",
       "6                                               space comhttp\n",
       "7                                                        dfdf\n",
       "8                                                 vaniqa comh\n",
       "9                                         www collegeucla edu\n",
       "10                                                 www elaorg\n",
       "11                                               207 ad2d 530\n",
       "12                                          broadway vera org\n",
       "13                                                   vera org\n",
       "14                                          broadway vera org\n",
       "15                                           frankmellace com\n",
       "16                                                ucs ljx com\n",
       "17                                          attornyleslie com\n",
       "18                                   merit release appearance\n",
       "19                                                    lottery\n",
       "20                                             ameriprise com\n",
       "21                                                    susheme\n",
       "22                                                 united com\n",
       "23                                                 mizuno com\n",
       "24                                                     p p p \n",
       "25                                       asiansexygoddess com\n",
       "26                                                   buddylis\n",
       "27                                       bestasiancompany com\n",
       "28                                                    lottery\n",
       "29                                                    lottery\n",
       "                                  ...                        \n",
       "14517216                         playboy bunny coloring pages\n",
       "14517217                                  baby coloring pages\n",
       "14517218                                  kids coloring pages\n",
       "14517219                           hello kitty coloring pages\n",
       "14517220                                          www myspace\n",
       "14517221                                          belly rings\n",
       "14517222                                     1 99 belly rings\n",
       "14517223                                                  fox\n",
       "14517224                                     fox obel chicago\n",
       "14517225                                      travelocity com\n",
       "14517226                                      phoenix birding\n",
       "14517227                                       hawaii birding\n",
       "14517228                             hawaii bed and breakfast\n",
       "14517229                                   focus on jerusalem\n",
       "14517230                                          busty girls\n",
       "14517231                                           chubbytand\n",
       "14517232                                           chubbyland\n",
       "14517233                                                     \n",
       "14517234                                www schoolmatters com\n",
       "14517235                                              www com\n",
       "14517236                                 www stringbikini com\n",
       "14517237                                      www verizon net\n",
       "14517238                                         www verizon \n",
       "14517239                                    takingback sunday\n",
       "14517240                                   taking back sunday\n",
       "14517241                    who is going to be at warped tour\n",
       "14517242         who is going to be at warped tour on july 12\n",
       "14517243    does taking back sunday have a concert in los ...\n",
       "14517244                                   www mypay dfas mil\n",
       "14517245                                           google com\n",
       "Name: 1, Length: 14517246, dtype: object"
      ]
     },
     "execution_count": 48,
     "metadata": {},
     "output_type": "execute_result"
    }
   ],
   "source": [
    "data"
   ]
  },
  {
   "cell_type": "code",
   "execution_count": 7,
   "metadata": {},
   "outputs": [],
   "source": [
    "analyzer = tfidf.build_analyzer()"
   ]
  },
  {
   "cell_type": "code",
   "execution_count": 63,
   "metadata": {},
   "outputs": [],
   "source": [
    "del data"
   ]
  },
  {
   "cell_type": "code",
   "execution_count": 37,
   "metadata": {},
   "outputs": [],
   "source": [
    "ngramdict = dict(zip(tfidf.get_feature_names(), tfidf.idf_))"
   ]
  },
  {
   "cell_type": "code",
   "execution_count": null,
   "metadata": {},
   "outputs": [],
   "source": [
    "import csv\n",
    "with open('data/ngram_dict.csv', 'w') as csv_file:\n",
    "    writer = csv.writer(csv_file)\n",
    "    for key, value in ngramdict.items():\n",
    "        writer.writerow([key, value])"
   ]
  }
 ],
 "metadata": {
  "kernelspec": {
   "display_name": "Python 3",
   "language": "python",
   "name": "python3"
  },
  "language_info": {
   "codemirror_mode": {
    "name": "ipython",
    "version": 3
   },
   "file_extension": ".py",
   "mimetype": "text/x-python",
   "name": "python",
   "nbconvert_exporter": "python",
   "pygments_lexer": "ipython3",
   "version": "3.7.2+"
  }
 },
 "nbformat": 4,
 "nbformat_minor": 2
}
