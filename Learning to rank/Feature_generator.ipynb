{
 "cells": [
  {
   "cell_type": "code",
   "execution_count": 1,
   "metadata": {},
   "outputs": [
    {
     "ename": "SyntaxError",
     "evalue": "invalid syntax (<ipython-input-1-f699807a611c>, line 10)",
     "output_type": "error",
     "traceback": [
      "\u001b[0;36m  File \u001b[0;32m\"<ipython-input-1-f699807a611c>\"\u001b[0;36m, line \u001b[0;32m10\u001b[0m\n\u001b[0;31m    sortedpopular = pd.read_csv(\"data/sorted_popular_queries.csv\" index_col='Unnamed: 0')\u001b[0m\n\u001b[0m                                                                          ^\u001b[0m\n\u001b[0;31mSyntaxError\u001b[0m\u001b[0;31m:\u001b[0m invalid syntax\n"
     ]
    }
   ],
   "source": [
    "import pandas as pd\n",
    "import csv\n",
    "import pyltr\n",
    "import numpy as np\n",
    "import datetime\n",
    "import re\n",
    "import time\n",
    "\n",
    "suffixes = pd.read_csv(\"data/Freq_background.csv\", index_col='Unnamed: 0')\n",
    "sortedpopular = pd.read_csv(\"data/sorted_popular_queries.csv\" index_col='Unnamed: 0')\n",
    "with open('data/ngram_dict.csv', mode='r') as infile:\n",
    "    reader = csv.reader(infile)\n",
    "    ngram_dict = {rows[0]:rows[1] for rows in reader}"
   ]
  },
  {
   "cell_type": "code",
   "execution_count": null,
   "metadata": {},
   "outputs": [],
   "source": []
  }
 ],
 "metadata": {
  "kernelspec": {
   "display_name": "Python 3",
   "language": "python",
   "name": "python3"
  },
  "language_info": {
   "codemirror_mode": {
    "name": "ipython",
    "version": 3
   },
   "file_extension": ".py",
   "mimetype": "text/x-python",
   "name": "python",
   "nbconvert_exporter": "python",
   "pygments_lexer": "ipython3",
   "version": "3.7.2+"
  }
 },
 "nbformat": 4,
 "nbformat_minor": 2
}
