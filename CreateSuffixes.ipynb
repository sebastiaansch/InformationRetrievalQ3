{
 "cells": [
  {
   "cell_type": "code",
   "execution_count": 1,
   "metadata": {},
   "outputs": [],
   "source": [
    "import numpy as np\n",
    "import pandas as pd\n",
    "import glob\n",
    "import os\n",
    "import re\n",
    "import time\n",
    "import datetime\n",
    "import gc"
   ]
  },
  {
   "cell_type": "code",
   "execution_count": 2,
   "metadata": {},
   "outputs": [],
   "source": [
    "def get_suffix(inputstring):\n",
    "    splitted = re.split('[\\W_]+',str(inputstring))\n",
    "    return_list = []\n",
    "    for i in range(len(splitted)):\n",
    "        return_list.append(' '.join(splitted[i:len(splitted)]))\n",
    "    return return_list"
   ]
  },
  {
   "cell_type": "code",
   "execution_count": 3,
   "metadata": {},
   "outputs": [
    {
     "data": {
      "text/plain": [
       "['user-ct-test-collection-01.txt',\n",
       " 'user-ct-test-collection-02.txt',\n",
       " 'user-ct-test-collection-03.txt',\n",
       " 'user-ct-test-collection-04.txt',\n",
       " 'user-ct-test-collection-05.txt',\n",
       " 'user-ct-test-collection-06.txt',\n",
       " 'user-ct-test-collection-07.txt',\n",
       " 'user-ct-test-collection-08.txt',\n",
       " 'user-ct-test-collection-09.txt',\n",
       " 'user-ct-test-collection-10.txt']"
      ]
     },
     "execution_count": 3,
     "metadata": {},
     "output_type": "execute_result"
    }
   ],
   "source": [
    "data_path = \"data/aol-data/\"\n",
    "dir_list = sorted(os.listdir(data_path))\n",
    "dir_list "
   ]
  },
  {
   "cell_type": "code",
   "execution_count": 4,
   "metadata": {
    "scrolled": true
   },
   "outputs": [
    {
     "name": "stdout",
     "output_type": "stream",
     "text": [
      "data/aol-data/user-ct-test-collection-01.txt\n",
      "data/aol-data/user-ct-test-collection-02.txt\n",
      "data/aol-data/user-ct-test-collection-03.txt\n",
      "data/aol-data/user-ct-test-collection-04.txt\n",
      "data/aol-data/user-ct-test-collection-05.txt\n",
      "data/aol-data/user-ct-test-collection-06.txt\n",
      "data/aol-data/user-ct-test-collection-07.txt\n",
      "data/aol-data/user-ct-test-collection-08.txt\n"
     ]
    },
    {
     "name": "stderr",
     "output_type": "stream",
     "text": [
      "/usr/local/lib/python3.7/dist-packages/IPython/core/interactiveshell.py:3044: DtypeWarning: Columns (0,3) have mixed types. Specify dtype option on import or set low_memory=False.\n",
      "  interactivity=interactivity, compiler=compiler, result=result)\n"
     ]
    },
    {
     "name": "stdout",
     "output_type": "stream",
     "text": [
      "data/aol-data/user-ct-test-collection-09.txt\n",
      "data/aol-data/user-ct-test-collection-10.txt\n"
     ]
    },
    {
     "data": {
      "text/plain": [
       "0"
      ]
     },
     "execution_count": 4,
     "metadata": {},
     "output_type": "execute_result"
    }
   ],
   "source": [
    "df_from_files = []\n",
    "for file in dir_list:\n",
    "    print(data_path + \"\" +file)\n",
    "    df = pd.read_csv(data_path + \"\" +file, delimiter=\"\\t\")\n",
    "    df_from_files.append(df)\n",
    "\n",
    "df = pd.concat(df_from_files, axis = 0, ignore_index = True)\n",
    "df_from_files = []\n",
    "df.columns\n",
    "gc.collect()"
   ]
  },
  {
   "cell_type": "code",
   "execution_count": null,
   "metadata": {},
   "outputs": [],
   "source": [
    "# smaller_df = df.loc[range(1000)]\n",
    "# smaller_df.set_index(['AnonID','Query'], inplace=True)\n",
    "\n",
    "# start_time = time.time()\n",
    "# smaller_df['AnonID'] = pd.to_numeric(smaller_df['AnonID'])\n",
    "# smaller_df['Query'] = smaller_df['Query'].to_string()\n",
    "\n",
    "# smaller_df['QueryTime'] = pd.to_datetime(smaller_df['QueryTime'])\n",
    "# smaller_df['QueryDiff'] = smaller_df.sort_values(['AnonID','Query','QueryTime']).groupby(['AnonID','Query'])['QueryTime'].diff()\n",
    "\n",
    "# session_killed = smaller_df[~(smaller_df['QueryDiff'] <'00:30:00')]\n",
    "\n",
    "# elapsed_time = time.time() - start_time\n",
    "\n",
    "# print(\"Het duurde: \" + str(elapsed_time));\n",
    "# smaller_df.info(verbose=True)"
   ]
  },
  {
   "cell_type": "code",
   "execution_count": 5,
   "metadata": {},
   "outputs": [],
   "source": [
    "del df_from_files"
   ]
  },
  {
   "cell_type": "code",
   "execution_count": null,
   "metadata": {},
   "outputs": [],
   "source": [
    "# start_time = time.time()\n",
    "# smaller_df.drop(columns=['ItemRank', 'ClickURL'])\n",
    "# smaller_df['QueryTime'] = pd.to_datetime(smaller_df['QueryTime'])\n",
    "# smaller_df['Diff'] = smaller_df.groupby(['AnonID', 'Query'], sort=False)['QueryTime'].diff()\n",
    "# elapsed_time = time.time() - start_time\n",
    "# print(elapsed_time)\n"
   ]
  },
  {
   "cell_type": "code",
   "execution_count": 7,
   "metadata": {
    "scrolled": true
   },
   "outputs": [
    {
     "data": {
      "text/plain": [
       "20"
      ]
     },
     "execution_count": 7,
     "metadata": {},
     "output_type": "execute_result"
    }
   ],
   "source": [
    "# start_time = time.time()\n",
    "# df.drop(columns=['ItemRank', 'ClickURL'])\n",
    "# df['QueryTime'] = pd.to_datetime(smaller_df['QueryTime'])\n",
    "# df['Diff'] = df.groupby(['AnonID', 'Query'], sort=False)['QueryTime'].diff()\n",
    "# elapsed_time = time.time() - start_time\n",
    "# print(elapsed_time)\n",
    "gc.collect()"
   ]
  },
  {
   "cell_type": "code",
   "execution_count": 6,
   "metadata": {},
   "outputs": [
    {
     "name": "stdout",
     "output_type": "stream",
     "text": [
      "395.93829226493835\n"
     ]
    }
   ],
   "source": [
    "start_time = time.time()\n",
    "\n",
    "df['QueryTime'] = pd.to_datetime(df['QueryTime'])\n",
    "df.sort_values(['AnonID', 'Query'],inplace=True)\n",
    "df.reset_index(inplace=True, drop=True)\n",
    "df['Diff'] = None\n",
    "previousQuery = \"\"\n",
    "previousQuery = \"\"\n",
    "\n",
    "matrixding = df.values\n",
    "df = []\n",
    "del df\n",
    "# for index, row in smaller_df.iterrows():\n",
    "#     if previousQuery == row['Query']:\n",
    "#         smaller_df.at[i,'Diff'] = row['QueryTime'] - previousTime\n",
    "#         previousQuery = row['Query']\n",
    "#         previousTime = row['QueryTime']\n",
    "\n",
    "for i in range(1,len(matrixding)):\n",
    "    if matrixding[i,1] == matrixding[i-1,1]:\n",
    "        matrixding[i, 5] = matrixding[i,2]-matrixding[i-1,2]\n",
    "\n",
    "\n",
    "elapsed_time = time.time() - start_time\n",
    "gc.collect()\n",
    "print(elapsed_time)\n"
   ]
  },
  {
   "cell_type": "code",
   "execution_count": null,
   "metadata": {},
   "outputs": [],
   "source": [
    "np.savetxt(\"data/resulting.csv\", matrixding, delimiter=\",\", fmt=\"%s\")"
   ]
  },
  {
   "cell_type": "code",
   "execution_count": null,
   "metadata": {},
   "outputs": [],
   "source": []
  },
  {
   "cell_type": "code",
   "execution_count": null,
   "metadata": {},
   "outputs": [],
   "source": [
    "filename = \"data/session_seperated_all.txt\"\n",
    "file = open(filename,\"w\")\n",
    "\n",
    "for query in resulting[\"Query\"]:\n",
    "    splitted = get_suffix(query)\n",
    "    for suffix in splitted:\n",
    "        if suffix == \"\":\n",
    "            continue\n",
    "        file.write(suffix + \"\\n\")\n",
    "file.close()"
   ]
  }
 ],
 "metadata": {
  "kernelspec": {
   "display_name": "Python 3",
   "language": "python",
   "name": "python3"
  },
  "language_info": {
   "codemirror_mode": {
    "name": "ipython",
    "version": 3
   },
   "file_extension": ".py",
   "mimetype": "text/x-python",
   "name": "python",
   "nbconvert_exporter": "python",
   "pygments_lexer": "ipython3",
   "version": "3.7.1"
  }
 },
 "nbformat": 4,
 "nbformat_minor": 2
}
