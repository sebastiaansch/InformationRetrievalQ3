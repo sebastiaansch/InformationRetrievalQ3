{
 "cells": [
  {
   "cell_type": "code",
   "execution_count": 1,
   "metadata": {},
   "outputs": [],
   "source": [
    "import numpy as np\n",
    "import pandas as pd\n",
    "import glob\n",
    "import os\n",
    "import re"
   ]
  },
  {
   "cell_type": "code",
   "execution_count": 11,
   "metadata": {},
   "outputs": [],
   "source": [
    "def get_suffix(inputstring):\n",
    "    splitted = re.split('(\\W|_)+',str(inputstring))\n",
    "    return_list = []\n",
    "    for i in range(len(splitted)):\n",
    "        return_list.append(' '.join(splitted[i:len(splitted)]))\n",
    "    return return_list"
   ]
  },
  {
   "cell_type": "code",
   "execution_count": 12,
   "metadata": {},
   "outputs": [
    {
     "data": {
      "text/plain": [
       "['user-ct-test-collection-01.txt',\n",
       " 'user-ct-test-collection-02.txt',\n",
       " 'user-ct-test-collection-03.txt',\n",
       " 'user-ct-test-collection-04.txt',\n",
       " 'user-ct-test-collection-05.txt',\n",
       " 'user-ct-test-collection-06.txt',\n",
       " 'user-ct-test-collection-07.txt',\n",
       " 'user-ct-test-collection-08.txt',\n",
       " 'user-ct-test-collection-09.txt',\n",
       " 'user-ct-test-collection-10.txt']"
      ]
     },
     "execution_count": 12,
     "metadata": {},
     "output_type": "execute_result"
    }
   ],
   "source": [
    "data_path = \"data/aol-data/\"\n",
    "dir_list = sorted(os.listdir(data_path))\n",
    "dir_list "
   ]
  },
  {
   "cell_type": "code",
   "execution_count": 13,
   "metadata": {
    "scrolled": true
   },
   "outputs": [
    {
     "name": "stdout",
     "output_type": "stream",
     "text": [
      "data/aol-data/user-ct-test-collection-01.txt\n",
      "data/aol-data/user-ct-test-collection-02.txt\n",
      "data/aol-data/user-ct-test-collection-03.txt\n",
      "data/aol-data/user-ct-test-collection-04.txt\n",
      "data/aol-data/user-ct-test-collection-05.txt\n",
      "data/aol-data/user-ct-test-collection-06.txt\n",
      "data/aol-data/user-ct-test-collection-07.txt\n",
      "data/aol-data/user-ct-test-collection-08.txt\n"
     ]
    },
    {
     "name": "stderr",
     "output_type": "stream",
     "text": [
      "/usr/local/lib/python3.7/dist-packages/IPython/core/interactiveshell.py:3044: DtypeWarning: Columns (0,3) have mixed types. Specify dtype option on import or set low_memory=False.\n",
      "  interactivity=interactivity, compiler=compiler, result=result)\n"
     ]
    },
    {
     "name": "stdout",
     "output_type": "stream",
     "text": [
      "data/aol-data/user-ct-test-collection-09.txt\n",
      "data/aol-data/user-ct-test-collection-10.txt\n"
     ]
    }
   ],
   "source": [
    "df_from_files = []\n",
    "for file in dir_list:\n",
    "    print(data_path + \"\" +file)\n",
    "    df = pd.read_csv(data_path + \"\" +file, delimiter=\"\\t\")\n",
    "    df_from_files.append(df)\n",
    "\n",
    "df = pd.concat(df_from_files, axis = 0, ignore_index = True)"
   ]
  },
  {
   "cell_type": "code",
   "execution_count": 14,
   "metadata": {},
   "outputs": [
    {
     "data": {
      "text/plain": [
       "10154741"
      ]
     },
     "execution_count": 14,
     "metadata": {},
     "output_type": "execute_result"
    }
   ],
   "source": [
    "query_data = df['Query']\n",
    "query_data = query_data.drop_duplicates()\n",
    "len(query_data)"
   ]
  },
  {
   "cell_type": "code",
   "execution_count": 15,
   "metadata": {},
   "outputs": [],
   "source": [
    "small_query = []\n",
    "df = []\n"
   ]
  },
  {
   "cell_type": "code",
   "execution_count": 16,
   "metadata": {},
   "outputs": [],
   "source": [
    "filename = \"data/output.txt\""
   ]
  },
  {
   "cell_type": "code",
   "execution_count": 17,
   "metadata": {},
   "outputs": [],
   "source": [
    "file = open(filename,\"w\")\n",
    "\n",
    "for query in query_data:\n",
    "    splitted = get_suffix(query)\n",
    "    for suffix in splitted:\n",
    "        if suffix == \"\":\n",
    "            continue\n",
    "        file.write(suffix + \"\\n\")\n",
    "file.close()"
   ]
  },
  {
   "cell_type": "code",
   "execution_count": 18,
   "metadata": {},
   "outputs": [],
   "source": [
    "## hieronder splitten met punten en spaties, misschien nog meer splitten?"
   ]
  },
  {
   "cell_type": "code",
   "execution_count": 19,
   "metadata": {},
   "outputs": [
    {
     "name": "stdout",
     "output_type": "stream",
     "text": [
      "www\n",
      "prescriptionfortime\n",
      "com\n"
     ]
    }
   ],
   "source": [
    "splitted = re.split('\\W',str(query_data[1] + \" \"))\n",
    "splitted\n",
    "for suffix in splitted:\n",
    "    if suffix == \"\":\n",
    "        continue\n",
    "    print(suffix)"
   ]
  },
  {
   "cell_type": "code",
   "execution_count": 24,
   "metadata": {},
   "outputs": [
    {
     "data": {
      "text/plain": [
       "['www prescriptionfortime com', 'prescriptionfortime com', 'com']"
      ]
     },
     "execution_count": 24,
     "metadata": {},
     "output_type": "execute_result"
    }
   ],
   "source": [
    "get_suffix(query_data[1])"
   ]
  },
  {
   "cell_type": "code",
   "execution_count": null,
   "metadata": {},
   "outputs": [],
   "source": []
  },
  {
   "cell_type": "code",
   "execution_count": null,
   "metadata": {},
   "outputs": [],
   "source": []
  }
 ],
 "metadata": {
  "kernelspec": {
   "display_name": "Python 3",
   "language": "python",
   "name": "python3"
  },
  "language_info": {
   "codemirror_mode": {
    "name": "ipython",
    "version": 3
   },
   "file_extension": ".py",
   "mimetype": "text/x-python",
   "name": "python",
   "nbconvert_exporter": "python",
   "pygments_lexer": "ipython3",
   "version": "3.7.2+"
  }
 },
 "nbformat": 4,
 "nbformat_minor": 2
}
