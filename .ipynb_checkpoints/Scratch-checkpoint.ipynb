{
 "cells": [
  {
   "cell_type": "code",
   "execution_count": 1,
   "metadata": {},
   "outputs": [],
   "source": [
    "import numpy as np\n",
    "import pandas as pd\n",
    "import glob\n",
    "import os"
   ]
  },
  {
   "cell_type": "code",
   "execution_count": 8,
   "metadata": {},
   "outputs": [],
   "source": [
    "def get_suffix(inputstring):\n",
    "    splitted = str(inputstring).split(' ') \n",
    "    return_list = []\n",
    "    for i in range(len(splitted)):\n",
    "        return_list.append(' '.join(splitted[i:len(splitted)]))\n",
    "    return return_list"
   ]
  },
  {
   "cell_type": "code",
   "execution_count": 3,
   "metadata": {},
   "outputs": [
    {
     "data": {
      "text/plain": [
       "['user-ct-test-collection-01.txt',\n",
       " 'user-ct-test-collection-02.txt',\n",
       " 'user-ct-test-collection-03.txt',\n",
       " 'user-ct-test-collection-04.txt',\n",
       " 'user-ct-test-collection-05.txt',\n",
       " 'user-ct-test-collection-06.txt',\n",
       " 'user-ct-test-collection-07.txt',\n",
       " 'user-ct-test-collection-08.txt',\n",
       " 'user-ct-test-collection-09.txt',\n",
       " 'user-ct-test-collection-10.txt']"
      ]
     },
     "execution_count": 3,
     "metadata": {},
     "output_type": "execute_result"
    }
   ],
   "source": [
    "data_path = \"data/aol-data/\"\n",
    "dir_list = sorted(os.listdir(data_path))\n",
    "dir_list "
   ]
  },
  {
   "cell_type": "code",
   "execution_count": 5,
   "metadata": {
    "scrolled": true
   },
   "outputs": [
    {
     "name": "stdout",
     "output_type": "stream",
     "text": [
      "data/aol-data/user-ct-test-collection-01.txt\n",
      "data/aol-data/user-ct-test-collection-02.txt\n",
      "data/aol-data/user-ct-test-collection-03.txt\n",
      "data/aol-data/user-ct-test-collection-04.txt\n",
      "data/aol-data/user-ct-test-collection-05.txt\n",
      "data/aol-data/user-ct-test-collection-06.txt\n",
      "data/aol-data/user-ct-test-collection-07.txt\n",
      "data/aol-data/user-ct-test-collection-08.txt\n"
     ]
    },
    {
     "name": "stderr",
     "output_type": "stream",
     "text": [
      "/usr/local/lib/python3.7/dist-packages/IPython/core/interactiveshell.py:3044: DtypeWarning: Columns (0,3) have mixed types. Specify dtype option on import or set low_memory=False.\n",
      "  interactivity=interactivity, compiler=compiler, result=result)\n"
     ]
    },
    {
     "name": "stdout",
     "output_type": "stream",
     "text": [
      "data/aol-data/user-ct-test-collection-09.txt\n",
      "data/aol-data/user-ct-test-collection-10.txt\n"
     ]
    }
   ],
   "source": [
    "df_from_files = []\n",
    "for file in dir_list:\n",
    "    print(data_path + \"\" +file)\n",
    "    df = pd.read_csv(data_path + \"\" +file, delimiter=\"\\t\")\n",
    "    df_from_files.append(df)\n",
    "\n",
    "df = pd.concat(df_from_files, axis = 0, ignore_index = True)"
   ]
  },
  {
   "cell_type": "code",
   "execution_count": 6,
   "metadata": {},
   "outputs": [
    {
     "data": {
      "text/plain": [
       "10154741"
      ]
     },
     "execution_count": 6,
     "metadata": {},
     "output_type": "execute_result"
    }
   ],
   "source": [
    "query_data = df['Query']\n",
    "query_data = query_data.drop_duplicates()\n",
    "len(query_data)"
   ]
  },
  {
   "cell_type": "code",
   "execution_count": 15,
   "metadata": {},
   "outputs": [],
   "source": [
    "small_query = []\n",
    "df = []\n"
   ]
  },
  {
   "cell_type": "code",
   "execution_count": null,
   "metadata": {},
   "outputs": [],
   "source": [
    "result = query_data.apply(get_suffix)\n",
    "suffices = result.apply(pd.Series,1).stack()"
   ]
  },
  {
   "cell_type": "code",
   "execution_count": 13,
   "metadata": {},
   "outputs": [
    {
     "data": {
      "text/plain": [
       "0       0                    rentdirect.com\n",
       "1       0       www.prescriptionfortime.com\n",
       "2       0                        staple.com\n",
       "4       0         www.newyorklawyersite.com\n",
       "6       0                   westchester.gov\n",
       "7       0                     space.comhttp\n",
       "8       0                              dfdf\n",
       "10      0                       vaniqa.comh\n",
       "11      0               www.collegeucla.edu\n",
       "12      0                        www.elaorg\n",
       "13      0                      207 ad2d 530\n",
       "        1                          ad2d 530\n",
       "        2                               530\n",
       "15      0                 broadway.vera.org\n",
       "17      0                          vera.org\n",
       "19      0                  frankmellace.com\n",
       "20      0                       ucs.ljx.com\n",
       "21      0                 attornyleslie.com\n",
       "22      0          merit release appearance\n",
       "        1                release appearance\n",
       "        2                        appearance\n",
       "23      0               www.bonsai.wbff.org\n",
       "24      0                       loislaw.com\n",
       "25      0                         rapny.com\n",
       "26      0                    whitepages.com\n",
       "27      0                           lottery\n",
       "29      0                    ameriprise.com\n",
       "30      0                           susheme\n",
       "31      0                        united.com\n",
       "32      0                        mizuno.com\n",
       "                          ...              \n",
       "264168  1                     overnight.com\n",
       "264171  0                  register to vote\n",
       "        1                           to vote\n",
       "        2                              vote\n",
       "264174  0          ioe-am.metsominerals.com\n",
       "264175  0           www.ltd.commodities.com\n",
       "264176  0     www.nationalcitypayonline.com\n",
       "264177  0        www.nationalcitypaynow.com\n",
       "264178  0          www.nationalcitybank.com\n",
       "264179  0    hacienda tecalitlan chicago il\n",
       "        1             tecalitlan chicago il\n",
       "        2                        chicago il\n",
       "        3                                il\n",
       "264180  0                     baptism gowns\n",
       "        1                             gowns\n",
       "264181  0                      baby jewelry\n",
       "        1                           jewelry\n",
       "264184  0         www.ostermannsjewelry.com\n",
       "264186  0                  motehers jewelry\n",
       "        1                           jewelry\n",
       "264187  0            personalized keepsakes\n",
       "        1                         keepsakes\n",
       "264203  0           www.babysfirstquilt.com\n",
       "264205  0          www.personalcraetion.com\n",
       "264213  0                 www.univision.vom\n",
       "264214  0                www.giftfinder.com\n",
       "264216  0        www.gasstationschicago.com\n",
       "264217  0         www.floralarrangement.com\n",
       "264221  0                  portrait studios\n",
       "        1                           studios\n",
       "Length: 286762, dtype: object"
      ]
     },
     "execution_count": 13,
     "metadata": {},
     "output_type": "execute_result"
    }
   ],
   "source": [
    "suffices"
   ]
  },
  {
   "cell_type": "code",
   "execution_count": 55,
   "metadata": {},
   "outputs": [],
   "source": []
  },
  {
   "cell_type": "code",
   "execution_count": 61,
   "metadata": {},
   "outputs": [
    {
     "data": {
      "text/plain": [
       "0   0            eddie bauer women's shorts\n",
       "    1                  bauer women's shorts\n",
       "    2                        women's shorts\n",
       "    3                                shorts\n",
       "3   0    faulkner county library- conway ar\n",
       "    1             county library- conway ar\n",
       "    2                    library- conway ar\n",
       "    3                             conway ar\n",
       "    4                                    ar\n",
       "4   0                              mapquest\n",
       "5   0                       map of new york\n",
       "    1                           of new york\n",
       "    2                              new york\n",
       "    3                                  york\n",
       "6   0                           adirondacks\n",
       "8   0                                 lulac\n",
       "10  0                    southwest airlines\n",
       "    1                              airlines\n",
       "11  0                 cheap airline tickets\n",
       "    1                       airline tickets\n",
       "    2                               tickets\n",
       "13  0                       new york hotels\n",
       "    1                           york hotels\n",
       "    2                                hotels\n",
       "14  0           hotels in new york new york\n",
       "    1                  in new york new york\n",
       "    2                     new york new york\n",
       "    3                         york new york\n",
       "    4                              new york\n",
       "    5                                  york\n",
       "dtype: object"
      ]
     },
     "execution_count": 61,
     "metadata": {},
     "output_type": "execute_result"
    }
   ],
   "source": []
  },
  {
   "cell_type": "code",
   "execution_count": 59,
   "metadata": {},
   "outputs": [
    {
     "data": {
      "text/plain": [
       "\"eddie bauer women's shorts\""
      ]
     },
     "execution_count": 59,
     "metadata": {},
     "output_type": "execute_result"
    }
   ],
   "source": []
  },
  {
   "cell_type": "code",
   "execution_count": null,
   "metadata": {},
   "outputs": [],
   "source": []
  }
 ],
 "metadata": {
  "kernelspec": {
   "display_name": "Python 3",
   "language": "python",
   "name": "python3"
  },
  "language_info": {
   "codemirror_mode": {
    "name": "ipython",
    "version": 3
   },
   "file_extension": ".py",
   "mimetype": "text/x-python",
   "name": "python",
   "nbconvert_exporter": "python",
   "pygments_lexer": "ipython3",
   "version": "3.7.2+"
  }
 },
 "nbformat": 4,
 "nbformat_minor": 2
}
