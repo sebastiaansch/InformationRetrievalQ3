{
 "cells": [
  {
   "cell_type": "code",
   "execution_count": 1,
   "metadata": {},
   "outputs": [],
   "source": [
    "import pandas as pd"
   ]
  },
  {
   "cell_type": "code",
   "execution_count": 5,
   "metadata": {},
   "outputs": [],
   "source": [
    "begin = pd.read_csv(\"output.txt\", header = None)"
   ]
  },
  {
   "cell_type": "code",
   "execution_count": 6,
   "metadata": {},
   "outputs": [
    {
     "data": {
      "text/plain": [
       "35150086"
      ]
     },
     "execution_count": 6,
     "metadata": {},
     "output_type": "execute_result"
    }
   ],
   "source": [
    "len(begin)"
   ]
  },
  {
   "cell_type": "code",
   "execution_count": 7,
   "metadata": {},
   "outputs": [],
   "source": [
    "removedup = begin.drop_duplicates()"
   ]
  },
  {
   "cell_type": "code",
   "execution_count": 8,
   "metadata": {},
   "outputs": [
    {
     "data": {
      "text/plain": [
       "19962514"
      ]
     },
     "execution_count": 8,
     "metadata": {},
     "output_type": "execute_result"
    }
   ],
   "source": [
    "len(removedup)"
   ]
  },
  {
   "cell_type": "code",
   "execution_count": 9,
   "metadata": {},
   "outputs": [],
   "source": [
    "outputfile = open(\"removed_dup.txt\", \"w\")\n",
    "\n",
    "for entry in removedup[0]:\n",
    "    outputfile.write(str(entry) + \"\\n\")\n",
    "    \n",
    "outputfile.close()"
   ]
  },
  {
   "cell_type": "code",
   "execution_count": 10,
   "metadata": {},
   "outputs": [
    {
     "data": {
      "text/plain": [
       "0                                    rentdirect com\n",
       "1                                               com\n",
       "2                       www prescriptionfortime com\n",
       "3                           prescriptionfortime com\n",
       "5                                        staple com\n",
       "7                         www newyorklawyersite com\n",
       "8                             newyorklawyersite com\n",
       "10                                  westchester gov\n",
       "11                                              gov\n",
       "12                                    space comhttp\n",
       "13                                          comhttp\n",
       "14                                             dfdf\n",
       "15                                      vaniqa comh\n",
       "16                                             comh\n",
       "17                              www collegeucla edu\n",
       "18                                  collegeucla edu\n",
       "19                                              edu\n",
       "20                                       www elaorg\n",
       "21                                           elaorg\n",
       "22                                     207 ad2d 530\n",
       "23                                         ad2d 530\n",
       "24                                              530\n",
       "25                                broadway vera org\n",
       "26                                         vera org\n",
       "27                                              org\n",
       "30                                 frankmellace com\n",
       "32                                      ucs ljx com\n",
       "33                                          ljx com\n",
       "35                                attornyleslie com\n",
       "37                         merit release appearance\n",
       "                             ...                   \n",
       "35150030                 wellsfargofiancialnational\n",
       "35150031                          monjaras honduras\n",
       "35150033                       el botadero honduras\n",
       "35150034                          botadero honduras\n",
       "35150036                             tuxpan jalisco\n",
       "35150038                      ciudad guzman jalisco\n",
       "35150039                             guzman jalisco\n",
       "35150041                           zapotlan jalisco\n",
       "35150043                      pueblo nuevo honduras\n",
       "35150044                             nuevo honduras\n",
       "35150046                         manasigue honduras\n",
       "35150048                         namasigue honduras\n",
       "35150050                         namacigue honduras\n",
       "35150052                         melvin zamora 1977\n",
       "35150053                                zamora 1977\n",
       "35150055         melvin zamora 1977 criminal record\n",
       "35150056                zamora 1977 criminal record\n",
       "35150057                       1977 criminal record\n",
       "35150060                         dead aim downloads\n",
       "35150063                               www  chatcom\n",
       "35150064                                    chatcom\n",
       "35150066                          www  chatroomscom\n",
       "35150067                               chatroomscom\n",
       "35150073            palm harbor florida real estate\n",
       "35150074                 harbor florida real estate\n",
       "35150078                               adam goodman\n",
       "35150080                         asrcenergyservices\n",
       "35150081    educational journals-the clearing house\n",
       "35150082                journals-the clearing house\n",
       "35150085                                 c21curabba\n",
       "Name: 0, Length: 19962514, dtype: object"
      ]
     },
     "execution_count": 10,
     "metadata": {},
     "output_type": "execute_result"
    }
   ],
   "source": [
    "removedup[0]"
   ]
  },
  {
   "cell_type": "code",
   "execution_count": 25,
   "metadata": {},
   "outputs": [
    {
     "data": {
      "text/plain": [
       "0                                    rentdirect.com\n",
       "1                       www.prescriptionfortime.com\n",
       "2                                        staple.com\n",
       "3                         www.newyorklawyersite.com\n",
       "4                                   westchester.gov\n",
       "5                                     space.comhttp\n",
       "6                                              dfdf\n",
       "7                                       vaniqa.comh\n",
       "8                               www.collegeucla.edu\n",
       "9                                        www.elaorg\n",
       "10                                     207 ad2d 530\n",
       "11                                         ad2d 530\n",
       "12                                              530\n",
       "13                                broadway.vera.org\n",
       "14                                         vera.org\n",
       "15                                 frankmellace.com\n",
       "16                                      ucs.ljx.com\n",
       "17                                attornyleslie.com\n",
       "18                         merit release appearance\n",
       "19                               release appearance\n",
       "20                                       appearance\n",
       "21                              www.bonsai.wbff.org\n",
       "22                                      loislaw.com\n",
       "23                                        rapny.com\n",
       "24                                   whitepages.com\n",
       "25                                          lottery\n",
       "26                                   ameriprise.com\n",
       "27                                          susheme\n",
       "28                                       united.com\n",
       "29                                       mizuno.com\n",
       "                             ...                   \n",
       "30608282                       el botadero honduras\n",
       "30608283                          botadero honduras\n",
       "30608285                             tuxpan jalisco\n",
       "30608287                      ciudad guzman jalisco\n",
       "30608288                             guzman jalisco\n",
       "30608290                           zapotlan jalisco\n",
       "30608292                      pueblo nuevo honduras\n",
       "30608293                             nuevo honduras\n",
       "30608295                         manasigue honduras\n",
       "30608297                         namasigue honduras\n",
       "30608299                         namacigue honduras\n",
       "30608301                         melvin zamora 1977\n",
       "30608302                                zamora 1977\n",
       "30608304         melvin zamora 1977 criminal record\n",
       "30608305                zamora 1977 criminal record\n",
       "30608306                       1977 criminal record\n",
       "30608309                         dead aim downloads\n",
       "30608312                               www .chatcom\n",
       "30608313                                   .chatcom\n",
       "30608314                          www .chatroomscom\n",
       "30608315                              .chatroomscom\n",
       "30608316                         www .chatrooms com\n",
       "30608317                             .chatrooms com\n",
       "30608319            palm harbor florida real estate\n",
       "30608320                 harbor florida real estate\n",
       "30608324                               adam goodman\n",
       "30608326                         asrcenergyservices\n",
       "30608327    educational journals-the clearing house\n",
       "30608328                journals-the clearing house\n",
       "30608331                                 c21curabba\n",
       "Name: 0, Length: 18501783, dtype: object"
      ]
     },
     "execution_count": 25,
     "metadata": {},
     "output_type": "execute_result"
    }
   ],
   "source": []
  }
 ],
 "metadata": {
  "kernelspec": {
   "display_name": "Python 3",
   "language": "python",
   "name": "python3"
  },
  "language_info": {
   "codemirror_mode": {
    "name": "ipython",
    "version": 3
   },
   "file_extension": ".py",
   "mimetype": "text/x-python",
   "name": "python",
   "nbconvert_exporter": "python",
   "pygments_lexer": "ipython3",
   "version": "3.7.2+"
  }
 },
 "nbformat": 4,
 "nbformat_minor": 2
}
