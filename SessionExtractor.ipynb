{
 "cells": [
  {
   "cell_type": "code",
   "execution_count": null,
   "metadata": {},
   "outputs": [],
   "source": [
    "import pandas as pd\n",
    "import numpy as np\n",
    "import datetime \n",
    "\n",
    "df = pd.read_csv(\"data/combined_query.csv\", delimiter=\"\\t\",header=None)\n",
    "print(df.columns)\n",
    "\n",
    "df.loc[df[5]==\"None\", 5] = \"nan\"\n",
    "df[2] = pd.to_datetime(df[2])\n",
    "df[5] = pd.to_timedelta(df[5])\n",
    "\n",
    "print(len(df[5] <= datetime.timedelta(minutes=30)))\n",
    "\n"
   ]
  },
  {
   "cell_type": "code",
   "execution_count": null,
   "metadata": {},
   "outputs": [],
   "source": [
    "resultaat = df[(df[2] >= \"2006-05-15\") & (df[2] <= \"2006-05-28\") & ~(df[5] <= datetime.timedelta(minutes=30))][1]\n",
    "print(\"Removed session queries\")\n",
    "resultaat.to_csv(\"data/removed_session_validation.csv\")\n",
    "\n",
    "print(\"Done\")\n"
   ]
  },
  {
   "cell_type": "code",
   "execution_count": null,
   "metadata": {},
   "outputs": [],
   "source": [
    "print(\"Splitting\")\n",
    "filename = \"data/session_seperated_validation.txt\"\n",
    "file = open(filename,\"w\")\n",
    "\n",
    "for query in resultaat:\n",
    "    splitted = get_suffix(query)\n",
    "    for suffix in splitted:\n",
    "        if suffix == \"\":\n",
    "            continue\n",
    "        file.write(suffix + \"\\n\")\n",
    "file.close()"
   ]
  },
  {
   "cell_type": "code",
   "execution_count": null,
   "metadata": {},
   "outputs": [],
   "source": [
    "import re\n",
    "def get_suffix(inputstring):\n",
    "    splitted = re.split('[\\W_]+',str(inputstring))\n",
    "    return_list = []\n",
    "    for i in range(len(splitted)):\n",
    "        return_list.append(' '.join(splitted[i:len(splitted)]))\n",
    "    return return_list"
   ]
  },
  {
   "cell_type": "code",
   "execution_count": null,
   "metadata": {},
   "outputs": [],
   "source": []
  }
 ],
 "metadata": {
  "kernelspec": {
   "display_name": "Python 3",
   "language": "python",
   "name": "python3"
  },
  "language_info": {
   "codemirror_mode": {
    "name": "ipython",
    "version": 3
   },
   "file_extension": ".py",
   "mimetype": "text/x-python",
   "name": "python",
   "nbconvert_exporter": "python",
   "pygments_lexer": "ipython3",
   "version": "3.7.2+"
  }
 },
 "nbformat": 4,
 "nbformat_minor": 2
}
